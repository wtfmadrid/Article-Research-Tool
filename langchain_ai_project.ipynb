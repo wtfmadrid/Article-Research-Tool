{
 "cells": [
  {
   "cell_type": "code",
   "execution_count": 1,
   "id": "84588958",
   "metadata": {},
   "outputs": [],
   "source": [
    "from langchain.document_loaders import TextLoader"
   ]
  },
  {
   "cell_type": "code",
   "execution_count": 1,
   "id": "0c6183ac",
   "metadata": {},
   "outputs": [],
   "source": [
    "from langchain.document_loaders import UnstructuredURLLoader"
   ]
  },
  {
   "cell_type": "code",
   "execution_count": null,
   "id": "0035fa1d",
   "metadata": {},
   "outputs": [
    {
     "name": "stdout",
     "output_type": "stream",
     "text": [
      "<class 'list'>\n",
      "1\n",
      "<class 'langchain_core.documents.base.Document'>\n",
      "{'source': 'https://www.moneycontrol.com/stocksmarketsindia/https://www.moneycontrol.com/https://www.nseindia.com/'}\n"
     ]
    }
   ],
   "source": [
    "print(type(data))       # Likely <class 'list'>\n",
    "print(len(data))        # Still 1\n",
    "print(type(data[0]))    # Should be <class 'langchain.schema.Document'>\n",
    "print(data[0].metadata) # Should contain info from all 3 URLs, or just 1"
   ]
  },
  {
   "cell_type": "code",
   "execution_count": 2,
   "id": "3f6eb743",
   "metadata": {},
   "outputs": [],
   "source": [
    "loader = UnstructuredURLLoader(urls = [\n",
    "   \"https://www.moneycontrol.com/stocksmarketsindia/\", \n",
    "    \"https://www.moneycontrol.com/\", \n",
    "])\n"
   ]
  },
  {
   "cell_type": "code",
   "execution_count": 3,
   "id": "1e01f355",
   "metadata": {},
   "outputs": [
    {
     "data": {
      "text/plain": [
       "2"
      ]
     },
     "execution_count": 3,
     "metadata": {},
     "output_type": "execute_result"
    }
   ],
   "source": [
    "data = loader.load()\n",
    "len(data)"
   ]
  },
  {
   "cell_type": "code",
   "execution_count": null,
   "id": "375218f3",
   "metadata": {},
   "outputs": [
    {
     "name": "stdout",
     "output_type": "stream",
     "text": [
      "\n",
      "--- Document 1 ---\n",
      "Metadata: {'source': 'https://www.moneycontrol.com/stocksmarketsindia/https://www.moneycontrol.com/https://www.nseindia.com/'}\n",
      "Preview: English\n",
      "\n",
      "Hindi\n",
      "\n",
      "Gujarati\n",
      "\n",
      "Specials\n",
      "\n",
      "Hello, Login\n",
      "\n",
      "Hello, Login\n",
      "\n",
      "Log-inorSign-Up\n",
      "\n",
      "My Account\n",
      "\n",
      "My Profile\n",
      "\n",
      "My Portfolio\n",
      "\n",
      "My Watchlist\n",
      "\n",
      "My Alerts\n",
      "\n",
      "My Messages\n",
      "\n",
      "Price Alerts\n",
      "\n",
      "My Profile\n",
      "\n",
      "My PRO\n",
      "\n",
      "My Portfolio\n",
      "\n",
      "My Watchlist\n",
      "\n",
      "My Alerts\n",
      "\n",
      "My Messages\n",
      "\n",
      "Price Alerts\n",
      "\n",
      "Logout\n",
      "\n",
      "Loans up to ₹50 LAKHS\n",
      "\n",
      "Fixed Deposi ...\n",
      "\n"
     ]
    }
   ],
   "source": [
    "for i, doc in enumerate(docs):\n",
    "    print(f\"\\n--- Document {i+1} ---\")\n",
    "    print(\"Metadata:\", doc.metadata)\n",
    "    print(\"Preview:\", doc.page_content[:300], \"...\\n\")"
   ]
  },
  {
   "cell_type": "code",
   "execution_count": 5,
   "id": "836a3f04",
   "metadata": {
    "slideshow": {
     "slide_type": "slide"
    }
   },
   "outputs": [],
   "source": [
    "text = \"\"\"Interstellar is a 2014 epic science fiction film directed by Christopher Nolan, who co-wrote the screenplay with his brother Jonathan. It features an ensemble cast led by Matthew McConaughey, Anne Hathaway, Jessica Chastain, Bill Irwin, Ellen Burstyn, and Michael Caine. \n",
    "Set in a dystopian future where Earth is suffering from catastrophic blight and famine, the film follows a group of astronauts who travel through a wormhole near Saturn in search of a new home for mankind.\n",
    "The screenplay had its origins in a script that Jonathan had developed in 2007 and was originally set to be directed by Steven Spielberg. Theoretical physicist Kip Thorne was an executive producer and scientific consultant on the film, and wrote the tie-in book The Science of Interstellar. It was Lynda Obsts final film as producer before her death.\"\"\""
   ]
  },
  {
   "cell_type": "code",
   "execution_count": 6,
   "id": "7509c4ee",
   "metadata": {},
   "outputs": [
    {
     "name": "stderr",
     "output_type": "stream",
     "text": [
      "Created a chunk of size 271, which is longer than the specified 200\n",
      "Created a chunk of size 205, which is longer than the specified 200\n"
     ]
    },
    {
     "data": {
      "text/plain": [
       "3"
      ]
     },
     "execution_count": 6,
     "metadata": {},
     "output_type": "execute_result"
    }
   ],
   "source": [
    "from langchain.text_splitter import CharacterTextSplitter\n",
    "\n",
    "splitter = CharacterTextSplitter(\n",
    "    separator=\"\\n\",\n",
    "    chunk_size=200,\n",
    "    chunk_overlap=0\n",
    ")\n",
    "chunks = splitter.split_text(text)\n",
    "len(chunks)"
   ]
  },
  {
   "cell_type": "code",
   "execution_count": 7,
   "id": "f5a7cf00",
   "metadata": {},
   "outputs": [
    {
     "data": {
      "text/plain": [
       "['Interstellar is a 2014 epic science fiction film directed by Christopher Nolan, who co-wrote the screenplay with his brother Jonathan. It features an ensemble cast led by Matthew McConaughey, Anne Hathaway, Jessica Chastain, Bill Irwin, Ellen Burstyn, and Michael Caine.',\n",
       " 'Set in a dystopian future where Earth is suffering from catastrophic blight and famine, the film follows a group of astronauts who travel through a wormhole near Saturn in search of a new home for mankind.',\n",
       " 'The screenplay had its origins in a script that Jonathan had developed in 2007 and was originally set to be directed by Steven Spielberg. Theoretical physicist Kip Thorne was an executive producer and scientific consultant on the film, and wrote the tie-in book The Science of Interstellar. It was Lynda Obsts final film as producer before her death.']"
      ]
     },
     "execution_count": 7,
     "metadata": {},
     "output_type": "execute_result"
    }
   ],
   "source": [
    "chunks"
   ]
  },
  {
   "cell_type": "code",
   "execution_count": 8,
   "id": "7f3d03e2",
   "metadata": {},
   "outputs": [
    {
     "name": "stdout",
     "output_type": "stream",
     "text": [
      "270\n",
      "205\n",
      "350\n"
     ]
    }
   ],
   "source": [
    "for chunk in chunks:\n",
    "    print(len(chunk))"
   ]
  },
  {
   "cell_type": "code",
   "execution_count": 11,
   "id": "6c82f636",
   "metadata": {},
   "outputs": [
    {
     "data": {
      "text/plain": [
       "6"
      ]
     },
     "execution_count": 11,
     "metadata": {},
     "output_type": "execute_result"
    }
   ],
   "source": [
    "from langchain_text_splitters import RecursiveCharacterTextSplitter\n",
    "\n",
    "r_splitter = RecursiveCharacterTextSplitter(\n",
    "    separators=[\"\\n\\n\", \"\\n\", \" \"],\n",
    "    chunk_size=200,\n",
    "    chunk_overlap=0\n",
    ")\n",
    "\n",
    "chunks = r_splitter.split_text(text)\n",
    "len(chunks)"
   ]
  },
  {
   "cell_type": "code",
   "execution_count": 12,
   "id": "503b6c3a",
   "metadata": {},
   "outputs": [
    {
     "name": "stdout",
     "output_type": "stream",
     "text": [
      "196\n",
      "73\n",
      "196\n",
      "8\n",
      "196\n",
      "153\n"
     ]
    }
   ],
   "source": [
    "for chunk in chunks:\n",
    "    print(len(chunk))"
   ]
  },
  {
   "cell_type": "code",
   "execution_count": 1,
   "id": "9fed1ed0",
   "metadata": {},
   "outputs": [],
   "source": [
    "import pandas as pd\n",
    "\n",
    "pd.set_option('display.max_colwidth', 100)"
   ]
  },
  {
   "cell_type": "code",
   "execution_count": 4,
   "id": "2cedcbd8",
   "metadata": {},
   "outputs": [
    {
     "data": {
      "text/plain": [
       "(219, 7)"
      ]
     },
     "execution_count": 4,
     "metadata": {},
     "output_type": "execute_result"
    }
   ],
   "source": [
    "df = pd.read_csv(\"D:/cricket project/t20_csv_files/t20_csv_files/dim_players.csv\")\n",
    "df.shape"
   ]
  },
  {
   "cell_type": "code",
   "execution_count": 5,
   "id": "d6d1e806",
   "metadata": {},
   "outputs": [
    {
     "data": {
      "text/html": [
       "<div>\n",
       "<style scoped>\n",
       "    .dataframe tbody tr th:only-of-type {\n",
       "        vertical-align: middle;\n",
       "    }\n",
       "\n",
       "    .dataframe tbody tr th {\n",
       "        vertical-align: top;\n",
       "    }\n",
       "\n",
       "    .dataframe thead th {\n",
       "        text-align: right;\n",
       "    }\n",
       "</style>\n",
       "<table border=\"1\" class=\"dataframe\">\n",
       "  <thead>\n",
       "    <tr style=\"text-align: right;\">\n",
       "      <th></th>\n",
       "      <th>name</th>\n",
       "      <th>team</th>\n",
       "      <th>image</th>\n",
       "      <th>battingStyle</th>\n",
       "      <th>bowlingStyle</th>\n",
       "      <th>playingRole</th>\n",
       "      <th>description</th>\n",
       "    </tr>\n",
       "  </thead>\n",
       "  <tbody>\n",
       "    <tr>\n",
       "      <th>0</th>\n",
       "      <td>Najmul Hossain Shanto</td>\n",
       "      <td>Bangladesh</td>\n",
       "      <td>NaN</td>\n",
       "      <td>Left hand Bat</td>\n",
       "      <td>Right arm Offbreak</td>\n",
       "      <td>Top order Batter</td>\n",
       "      <td>Nazmul Hossain Shanto emerged from an unusual source in Bangladesh cricket - the schools. A doub...</td>\n",
       "    </tr>\n",
       "    <tr>\n",
       "      <th>1</th>\n",
       "      <td>Soumya Sarkar</td>\n",
       "      <td>Bangladesh</td>\n",
       "      <td>NaN</td>\n",
       "      <td>Left hand Bat</td>\n",
       "      <td>Right arm Medium fast</td>\n",
       "      <td>Middle order Batter</td>\n",
       "      <td>A rarity among Bangladesh allrounders, top-order batter Soumya Sarkar bowls medium pace rather t...</td>\n",
       "    </tr>\n",
       "    <tr>\n",
       "      <th>2</th>\n",
       "      <td>Litton Das</td>\n",
       "      <td>Bangladesh</td>\n",
       "      <td>NaN</td>\n",
       "      <td>Right hand Bat</td>\n",
       "      <td>NaN</td>\n",
       "      <td>Wicketkeeper Batter</td>\n",
       "      <td>Liton Das is the first wicketkeeper-batsman in Bangladesh considered good enough to be a long-te...</td>\n",
       "    </tr>\n",
       "    <tr>\n",
       "      <th>3</th>\n",
       "      <td>Shakib Al Hasan(c)</td>\n",
       "      <td>Bangladesh</td>\n",
       "      <td>NaN</td>\n",
       "      <td>Left hand Bat</td>\n",
       "      <td>Slow Left arm Orthodox</td>\n",
       "      <td>Allrounder</td>\n",
       "      <td>When the annals of Bangladesh cricket are sifted by future generations, Shakib Al Hasan will eme...</td>\n",
       "    </tr>\n",
       "    <tr>\n",
       "      <th>4</th>\n",
       "      <td>Afif Hossain</td>\n",
       "      <td>Bangladesh</td>\n",
       "      <td>NaN</td>\n",
       "      <td>Left hand Bat</td>\n",
       "      <td>Right arm Offbreak</td>\n",
       "      <td>Allrounder</td>\n",
       "      <td>Bangladesh left-hander Afif Hossain made his T20I debut in 2017 and impressed right away in his ...</td>\n",
       "    </tr>\n",
       "    <tr>\n",
       "      <th>...</th>\n",
       "      <td>...</td>\n",
       "      <td>...</td>\n",
       "      <td>...</td>\n",
       "      <td>...</td>\n",
       "      <td>...</td>\n",
       "      <td>...</td>\n",
       "      <td>...</td>\n",
       "    </tr>\n",
       "    <tr>\n",
       "      <th>214</th>\n",
       "      <td>Shoriful Islam</td>\n",
       "      <td>Bangladesh</td>\n",
       "      <td>NaN</td>\n",
       "      <td>Left hand Bat</td>\n",
       "      <td>Left arm Medium fast</td>\n",
       "      <td>Bowler</td>\n",
       "      <td>At 6ft three inches, Shoriful Islam became a left-arm pace sensation almost overnight, when he s...</td>\n",
       "    </tr>\n",
       "    <tr>\n",
       "      <th>215</th>\n",
       "      <td>Phil Salt</td>\n",
       "      <td>England</td>\n",
       "      <td>NaN</td>\n",
       "      <td>Right hand Bat</td>\n",
       "      <td>Right arm Offbreak</td>\n",
       "      <td>Wicketkeeper Batter</td>\n",
       "      <td>Phil Salt's fearless ball-striking at the top of the Sussex order earned him attention from acro...</td>\n",
       "    </tr>\n",
       "    <tr>\n",
       "      <th>216</th>\n",
       "      <td>Ashton Agar</td>\n",
       "      <td>Australia</td>\n",
       "      <td>NaN</td>\n",
       "      <td>Left hand Bat</td>\n",
       "      <td>Slow Left arm Orthodox</td>\n",
       "      <td>Bowler</td>\n",
       "      <td>Ashton Agar initially turned almost as many heads as he has turned cricket balls. At the age of ...</td>\n",
       "    </tr>\n",
       "    <tr>\n",
       "      <th>217</th>\n",
       "      <td>Heinrich Klaasen</td>\n",
       "      <td>South Africa</td>\n",
       "      <td>NaN</td>\n",
       "      <td>Right hand Bat</td>\n",
       "      <td>Right arm Offbreak</td>\n",
       "      <td>Wicketkeeper Batter</td>\n",
       "      <td>A clean-hitting, wicketkeeper batsman, Heinrich Klaasen emerged on the scene at the same time th...</td>\n",
       "    </tr>\n",
       "    <tr>\n",
       "      <th>218</th>\n",
       "      <td>Timm van der Gugten</td>\n",
       "      <td>Netherlands</td>\n",
       "      <td>NaN</td>\n",
       "      <td>Right hand Bat</td>\n",
       "      <td>Right arm Fast medium</td>\n",
       "      <td>Bowler</td>\n",
       "      <td>Timm van der Gugten, born in Sydney, made his first-class debut for New South Wales in November ...</td>\n",
       "    </tr>\n",
       "  </tbody>\n",
       "</table>\n",
       "<p>219 rows × 7 columns</p>\n",
       "</div>"
      ],
      "text/plain": [
       "                      name          team image    battingStyle  \\\n",
       "0    Najmul Hossain Shanto    Bangladesh   NaN   Left hand Bat   \n",
       "1            Soumya Sarkar    Bangladesh   NaN   Left hand Bat   \n",
       "2               Litton Das    Bangladesh   NaN  Right hand Bat   \n",
       "3       Shakib Al Hasan(c)    Bangladesh   NaN   Left hand Bat   \n",
       "4             Afif Hossain    Bangladesh   NaN   Left hand Bat   \n",
       "..                     ...           ...   ...             ...   \n",
       "214         Shoriful Islam    Bangladesh   NaN   Left hand Bat   \n",
       "215              Phil Salt       England   NaN  Right hand Bat   \n",
       "216            Ashton Agar     Australia   NaN   Left hand Bat   \n",
       "217       Heinrich Klaasen  South Africa   NaN  Right hand Bat   \n",
       "218    Timm van der Gugten   Netherlands   NaN  Right hand Bat   \n",
       "\n",
       "               bowlingStyle          playingRole  \\\n",
       "0        Right arm Offbreak     Top order Batter   \n",
       "1     Right arm Medium fast  Middle order Batter   \n",
       "2                       NaN  Wicketkeeper Batter   \n",
       "3    Slow Left arm Orthodox           Allrounder   \n",
       "4        Right arm Offbreak           Allrounder   \n",
       "..                      ...                  ...   \n",
       "214    Left arm Medium fast               Bowler   \n",
       "215      Right arm Offbreak  Wicketkeeper Batter   \n",
       "216  Slow Left arm Orthodox               Bowler   \n",
       "217      Right arm Offbreak  Wicketkeeper Batter   \n",
       "218   Right arm Fast medium               Bowler   \n",
       "\n",
       "                                                                                             description  \n",
       "0    Nazmul Hossain Shanto emerged from an unusual source in Bangladesh cricket - the schools. A doub...  \n",
       "1    A rarity among Bangladesh allrounders, top-order batter Soumya Sarkar bowls medium pace rather t...  \n",
       "2    Liton Das is the first wicketkeeper-batsman in Bangladesh considered good enough to be a long-te...  \n",
       "3    When the annals of Bangladesh cricket are sifted by future generations, Shakib Al Hasan will eme...  \n",
       "4    Bangladesh left-hander Afif Hossain made his T20I debut in 2017 and impressed right away in his ...  \n",
       "..                                                                                                   ...  \n",
       "214  At 6ft three inches, Shoriful Islam became a left-arm pace sensation almost overnight, when he s...  \n",
       "215  Phil Salt's fearless ball-striking at the top of the Sussex order earned him attention from acro...  \n",
       "216  Ashton Agar initially turned almost as many heads as he has turned cricket balls. At the age of ...  \n",
       "217  A clean-hitting, wicketkeeper batsman, Heinrich Klaasen emerged on the scene at the same time th...  \n",
       "218  Timm van der Gugten, born in Sydney, made his first-class debut for New South Wales in November ...  \n",
       "\n",
       "[219 rows x 7 columns]"
      ]
     },
     "execution_count": 5,
     "metadata": {},
     "output_type": "execute_result"
    }
   ],
   "source": [
    "df"
   ]
  },
  {
   "cell_type": "code",
   "execution_count": 10,
   "id": "bbf637a3",
   "metadata": {},
   "outputs": [
    {
     "data": {
      "text/plain": [
       "(219, 768)"
      ]
     },
     "execution_count": 10,
     "metadata": {},
     "output_type": "execute_result"
    }
   ],
   "source": [
    "from sentence_transformers import SentenceTransformer\n",
    "\n",
    "encoder = SentenceTransformer(\"all-mpnet-base-v2\")\n",
    "vectors = encoder.encode(df.name)\n",
    "vectors.shape"
   ]
  },
  {
   "cell_type": "code",
   "execution_count": 13,
   "id": "4e726298",
   "metadata": {},
   "outputs": [
    {
     "data": {
      "text/plain": [
       "768"
      ]
     },
     "execution_count": 13,
     "metadata": {},
     "output_type": "execute_result"
    }
   ],
   "source": [
    "dim = vectors.shape[1]\n",
    "dim"
   ]
  },
  {
   "cell_type": "code",
   "execution_count": 14,
   "id": "b6731054",
   "metadata": {},
   "outputs": [],
   "source": [
    "import faiss\n",
    "\n",
    "index = faiss.IndexFlatL2(dim)\n",
    "index.add(vectors)"
   ]
  },
  {
   "cell_type": "code",
   "execution_count": 15,
   "id": "fda434cc",
   "metadata": {},
   "outputs": [
    {
     "data": {
      "text/plain": [
       "(768,)"
      ]
     },
     "execution_count": 15,
     "metadata": {},
     "output_type": "execute_result"
    }
   ],
   "source": [
    "search_query=\"Klassen\"\n",
    "\n",
    "vec = encoder.encode(search_query)\n",
    "vec.shape"
   ]
  },
  {
   "cell_type": "code",
   "execution_count": 16,
   "id": "d7f29bca",
   "metadata": {},
   "outputs": [
    {
     "data": {
      "text/plain": [
       "(1, 768)"
      ]
     },
     "execution_count": 16,
     "metadata": {},
     "output_type": "execute_result"
    }
   ],
   "source": [
    "import numpy as np\n",
    "svec = np.array(vec).reshape(1,-1)\n",
    "svec.shape"
   ]
  },
  {
   "cell_type": "code",
   "execution_count": null,
   "id": "375eee06",
   "metadata": {},
   "outputs": [],
   "source": [
    "distances , I = index.search(svec, k=3)"
   ]
  },
  {
   "cell_type": "code",
   "execution_count": 19,
   "id": "ed10d057",
   "metadata": {},
   "outputs": [
    {
     "data": {
      "text/plain": [
       "array([[217, 158,  78]])"
      ]
     },
     "execution_count": 19,
     "metadata": {},
     "output_type": "execute_result"
    }
   ],
   "source": [
    "I"
   ]
  },
  {
   "cell_type": "code",
   "execution_count": 20,
   "id": "e279c564",
   "metadata": {},
   "outputs": [
    {
     "data": {
      "text/html": [
       "<div>\n",
       "<style scoped>\n",
       "    .dataframe tbody tr th:only-of-type {\n",
       "        vertical-align: middle;\n",
       "    }\n",
       "\n",
       "    .dataframe tbody tr th {\n",
       "        vertical-align: top;\n",
       "    }\n",
       "\n",
       "    .dataframe thead th {\n",
       "        text-align: right;\n",
       "    }\n",
       "</style>\n",
       "<table border=\"1\" class=\"dataframe\">\n",
       "  <thead>\n",
       "    <tr style=\"text-align: right;\">\n",
       "      <th></th>\n",
       "      <th>name</th>\n",
       "      <th>team</th>\n",
       "      <th>image</th>\n",
       "      <th>battingStyle</th>\n",
       "      <th>bowlingStyle</th>\n",
       "      <th>playingRole</th>\n",
       "      <th>description</th>\n",
       "    </tr>\n",
       "  </thead>\n",
       "  <tbody>\n",
       "    <tr>\n",
       "      <th>217</th>\n",
       "      <td>Heinrich Klaasen</td>\n",
       "      <td>South Africa</td>\n",
       "      <td>NaN</td>\n",
       "      <td>Right hand Bat</td>\n",
       "      <td>Right arm Offbreak</td>\n",
       "      <td>Wicketkeeper Batter</td>\n",
       "      <td>A clean-hitting, wicketkeeper batsman, Heinrich Klaasen emerged on the scene at the same time th...</td>\n",
       "    </tr>\n",
       "    <tr>\n",
       "      <th>158</th>\n",
       "      <td>Akeal Hosein</td>\n",
       "      <td>West Indies</td>\n",
       "      <td>NaN</td>\n",
       "      <td>Left hand Bat</td>\n",
       "      <td>Slow Left arm Orthodox</td>\n",
       "      <td>Bowler</td>\n",
       "      <td>Akeal Hosein was handed a chance to impress for West Indies in Bangladesh in early 2021 after se...</td>\n",
       "    </tr>\n",
       "    <tr>\n",
       "      <th>78</th>\n",
       "      <td>Fred Klaassen</td>\n",
       "      <td>Netherlands</td>\n",
       "      <td>https://img1.hscicdn.com/image/upload/f_auto,t_ds_square_w_640,q_50/lsci/db/PICTURES/CMS/324200/...</td>\n",
       "      <td>Right hand Bat</td>\n",
       "      <td>Left arm Fast medium</td>\n",
       "      <td>Bowler</td>\n",
       "      <td>Spotted as part of a Netherlands development squad which played two one-day friendlies against K...</td>\n",
       "    </tr>\n",
       "  </tbody>\n",
       "</table>\n",
       "</div>"
      ],
      "text/plain": [
       "                 name          team  \\\n",
       "217  Heinrich Klaasen  South Africa   \n",
       "158      Akeal Hosein   West Indies   \n",
       "78      Fred Klaassen   Netherlands   \n",
       "\n",
       "                                                                                                   image  \\\n",
       "217                                                                                                  NaN   \n",
       "158                                                                                                  NaN   \n",
       "78   https://img1.hscicdn.com/image/upload/f_auto,t_ds_square_w_640,q_50/lsci/db/PICTURES/CMS/324200/...   \n",
       "\n",
       "       battingStyle            bowlingStyle          playingRole  \\\n",
       "217  Right hand Bat      Right arm Offbreak  Wicketkeeper Batter   \n",
       "158   Left hand Bat  Slow Left arm Orthodox               Bowler   \n",
       "78   Right hand Bat    Left arm Fast medium               Bowler   \n",
       "\n",
       "                                                                                             description  \n",
       "217  A clean-hitting, wicketkeeper batsman, Heinrich Klaasen emerged on the scene at the same time th...  \n",
       "158  Akeal Hosein was handed a chance to impress for West Indies in Bangladesh in early 2021 after se...  \n",
       "78   Spotted as part of a Netherlands development squad which played two one-day friendlies against K...  "
      ]
     },
     "execution_count": 20,
     "metadata": {},
     "output_type": "execute_result"
    }
   ],
   "source": [
    "df.loc[I[0]]"
   ]
  },
  {
   "cell_type": "code",
   "execution_count": null,
   "id": "4c21b510",
   "metadata": {},
   "outputs": [],
   "source": []
  }
 ],
 "metadata": {
  "kernelspec": {
   "display_name": "Python 3",
   "language": "python",
   "name": "python3"
  },
  "language_info": {
   "codemirror_mode": {
    "name": "ipython",
    "version": 3
   },
   "file_extension": ".py",
   "mimetype": "text/x-python",
   "name": "python",
   "nbconvert_exporter": "python",
   "pygments_lexer": "ipython3",
   "version": "3.10.1"
  }
 },
 "nbformat": 4,
 "nbformat_minor": 5
}
